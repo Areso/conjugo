{
 "cells": [
  {
   "cell_type": "markdown",
   "metadata": {},
   "source": [
    "# Spanish Conjugations"
   ]
  },
  {
   "cell_type": "code",
   "execution_count": 1,
   "metadata": {},
   "outputs": [
    {
     "name": "stdout",
     "output_type": "stream",
     "text": [
      "Populating the interactive namespace from numpy and matplotlib\n"
     ]
    }
   ],
   "source": [
    "%pylab inline"
   ]
  },
  {
   "cell_type": "code",
   "execution_count": 2,
   "metadata": {
    "collapsed": true
   },
   "outputs": [],
   "source": [
    "import pandas as pd"
   ]
  },
  {
   "cell_type": "code",
   "execution_count": 3,
   "metadata": {},
   "outputs": [],
   "source": [
    "import json"
   ]
  },
  {
   "cell_type": "code",
   "execution_count": 4,
   "metadata": {},
   "outputs": [],
   "source": [
    "import re"
   ]
  },
  {
   "cell_type": "markdown",
   "metadata": {},
   "source": [
    "Load spreadsheet convert to CSV from [here](https://github.com/ghidinelli/fred-jehle-spanish-verbs):"
   ]
  },
  {
   "cell_type": "code",
   "execution_count": 27,
   "metadata": {
    "collapsed": true
   },
   "outputs": [],
   "source": [
    "conjugations = pd.read_csv('conjugations.csv', encoding='utf-8').fillna('')"
   ]
  },
  {
   "cell_type": "code",
   "execution_count": 6,
   "metadata": {
    "collapsed": true
   },
   "outputs": [],
   "source": [
    "meta = pd.read_csv('meta.csv', encoding='utf-8')"
   ]
  },
  {
   "cell_type": "markdown",
   "metadata": {},
   "source": [
    "Define the pronoun headings used in the `conjugations` table:"
   ]
  },
  {
   "cell_type": "code",
   "execution_count": 252,
   "metadata": {},
   "outputs": [],
   "source": [
    "tpronouns = 'yo', 'tu', 'el', 'ns', 'vs', 'ellos'\n",
    "npronouns = len(tpronouns)"
   ]
  },
  {
   "cell_type": "markdown",
   "metadata": {},
   "source": [
    "Define the pronouns to use in the applications:"
   ]
  },
  {
   "cell_type": "code",
   "execution_count": 253,
   "metadata": {},
   "outputs": [],
   "source": [
    "apronouns = ['yo', 'tú', 'él/ella/usted', 'nosostros', 'vosotros', 'ellos/ellas/udstedes']"
   ]
  },
  {
   "cell_type": "markdown",
   "metadata": {},
   "source": [
    "Tabulate the list of possible tenses, indentified by (mood,time) pairs in the order they appear. Return separate lists for non-reflexive and reflexive verbs."
   ]
  },
  {
   "cell_type": "code",
   "execution_count": null,
   "metadata": {},
   "outputs": [],
   "source": [
    "all_tenses = [\n",
    "    'Indicativo,Presente', 'Indicativo,Pretérito', 'Indicativo,Futuro', 'Condicional,Condicional', 'Indicativo,Imperfecto',\n",
    "    'Indicativo,Presente progresivo', 'Indicativo,Presente progresivo', \n",
    "]"
   ]
  },
  {
   "cell_type": "code",
   "execution_count": 280,
   "metadata": {},
   "outputs": [],
   "source": [
    "def get_tenses():\n",
    "    tenses = []\n",
    "    # Lookup tenses for a reflexive verb since they have two forms of\n",
    "    # 'Indicativo,Presente progresivo'.\n",
    "    sel = (conjugations['verbo'] == 'aburrirse')\n",
    "    for _, row in conjugations[sel].iterrows():\n",
    "        tenses.append(f'{row[\"modo\"]},{row[\"tiempo\"]}')\n",
    "    return tenses"
   ]
  },
  {
   "cell_type": "code",
   "execution_count": 281,
   "metadata": {},
   "outputs": [
    {
     "name": "stdout",
     "output_type": "stream",
     "text": [
      "['Indicativo,Presente', 'Indicativo,Pretérito', 'Indicativo,Futuro', 'Condicional,Condicional', 'Indicativo,Imperfecto', 'Indicativo,Presente progresivo', 'Indicativo,Presente progresivo', 'Indicativo,Pretérito perfecto', 'Indicativo,Pluscuamperfecto', 'Indicativo,Futuro perfecto', 'Condicional,Condicional perfecto', 'Indicativo,Pretérito anterior', 'Subjuntivo,Subjuntivo presente', 'Subjuntivo,Subjuntivo imperfecto', 'Subjuntivo,Subjuntivo imperfecto', 'Subjuntivo,Subjuntivo futuro', 'Subjuntivo,Subjuntivo pretérito perfecto', 'Subjuntivo,Subjuntivo pluscuamperfecto', 'Subjuntivo,Subjuntivo pluscuamperfecto', 'Subjuntivo,Subjuntivo futuro perfecto', 'Imperativo,Imperativo positivo', 'Imperativo,Imperativo negativo']\n"
     ]
    }
   ],
   "source": [
    "tenses = get_tenses()\n",
    "print(tenses)"
   ]
  },
  {
   "cell_type": "code",
   "execution_count": 278,
   "metadata": {},
   "outputs": [],
   "source": [
    "assert tenses[0:6] == reftenses[0:6]\n",
    "assert tenses[7:] == reftenses[8:]"
   ]
  },
  {
   "cell_type": "code",
   "execution_count": 279,
   "metadata": {},
   "outputs": [
    {
     "data": {
      "text/plain": [
       "(21, 22)"
      ]
     },
     "execution_count": 279,
     "metadata": {},
     "output_type": "execute_result"
    }
   ],
   "source": [
    "len(tenses), len(reftenses)"
   ]
  },
  {
   "cell_type": "markdown",
   "metadata": {},
   "source": [
    "Tabulate regular conjugations:"
   ]
  },
  {
   "cell_type": "code",
   "execution_count": 304,
   "metadata": {},
   "outputs": [],
   "source": [
    "def get_regular(prototypes='hablar,comer,vivir,afeitarse,esconderse,aburrirse'):\n",
    "    regular = {}\n",
    "    for proto in prototypes.split(','):\n",
    "        reflexive = proto.endswith('se')\n",
    "        n = 4 if reflexive else 2\n",
    "        stem, ending = proto[:-n], proto[-n:]\n",
    "        stem_pattern = re.compile(f'\\\\b{stem}')\n",
    "        sel = (conjugations['verbo'] == proto)\n",
    "        conjs = []\n",
    "        idx = 0\n",
    "        for _, row in conjugations[sel].iterrows():\n",
    "            key = f'{row[\"modo\"]},{row[\"tiempo\"]}'\n",
    "            if idx == 6 and not reflexive:\n",
    "                # Skip the missing non-reflexive tense.\n",
    "                conjs.append([])\n",
    "                idx += 1\n",
    "            assert tenses[idx] == key\n",
    "            conj = [re.sub(stem_pattern, '_', row[p]) for p in tpronouns]\n",
    "            conjs.append(conj)\n",
    "            idx += 1\n",
    "        regular[ending] = conjs\n",
    "    return regular"
   ]
  },
  {
   "cell_type": "code",
   "execution_count": 305,
   "metadata": {},
   "outputs": [
    {
     "name": "stdout",
     "output_type": "stream",
     "text": [
      "22\n",
      "22\n"
     ]
    }
   ],
   "source": [
    "regular = get_regular()\n",
    "print(len(regular['ar']))\n",
    "print(len(regular['arse']))"
   ]
  },
  {
   "cell_type": "markdown",
   "metadata": {},
   "source": [
    "Convert to the internal JSON format used by the application:"
   ]
  },
  {
   "cell_type": "code",
   "execution_count": 315,
   "metadata": {},
   "outputs": [
    {
     "name": "stdout",
     "output_type": "stream",
     "text": [
      "Converted 637 verbs.\n",
      "287 / 637 (45.1%) verbs are regular.\n",
      "11269 / 13448 (83.8%) tenses are regular.\n",
      "70534 / 80688 (87.4%) pronouns are regular.\n"
     ]
    }
   ],
   "source": [
    "def convert(maxverbs=None):\n",
    "    conjdata = []\n",
    "    nverb = ntense = npronoun = 0\n",
    "    nreg_verb = nreg_tense = nreg_pronoun = 0\n",
    "    for _, metarow in meta.iterrows():\n",
    "        if nverb == maxverbs:\n",
    "            break\n",
    "        name = infinitive = metarow['verbo']\n",
    "        assert name not in conjugations, f'Found duplicate verb {name}'\n",
    "        if metarow['reflexivo']:\n",
    "            reflexive = True\n",
    "            # Remove -se suffix from infinitive of reflexive verbs.\n",
    "            assert infinitive[-2:] == 'se', f'Unexpected reflexive ending for {infinitive}'\n",
    "            infinitive = infinitive[:-2]\n",
    "            ntenses = len(tenses)\n",
    "        else:\n",
    "            reflexive = False\n",
    "            ntenses = len(tenses) - 1\n",
    "        assert infinitive[-2:] in ('ar', 'er', 'ir', 'ír'), f'Unexpected ending for {infinitive}'\n",
    "        stem, ending = infinitive[:-2], infinitive[-2:]\n",
    "        if ending == 'ír': # remove the accent\n",
    "            ending = 'ir'\n",
    "        if reflexive:\n",
    "            ending += 'se'\n",
    "        stem_pattern = re.compile(f'\\\\b{stem}')\n",
    "        info = dict(name=name, com=metarow['comun'], en=metarow['trad_en'])\n",
    "        conjs = []\n",
    "        tense_idx = 0\n",
    "        irregular = False\n",
    "        sel = (conjugations['verbo'] == name)\n",
    "        assert np.count_nonzero(sel) == ntenses, f'Unexpected number of tenses for {name}'\n",
    "        for _, row in conjugations[sel].iterrows():\n",
    "            key = f'{row[\"modo\"]},{row[\"tiempo\"]}'\n",
    "            if tense_idx == 6 and not reflexive:\n",
    "                # Skip the missing non-reflexive tense.\n",
    "                conjs.append([])\n",
    "                tense_idx += 1\n",
    "            assert tenses[tense_idx] == key\n",
    "            conj = [re.sub(stem_pattern, '_', row[p]) for p in tpronouns]\n",
    "            # Flag any regular conjugations.\n",
    "            reg = regular[ending][tense_idx]\n",
    "            if conj == reg:\n",
    "                conj = '*'\n",
    "                nreg_tense += 1\n",
    "                nreg_pronoun += npronouns\n",
    "            else:\n",
    "                irregular = True\n",
    "                # Check for individual pronouns with regular conjugations.\n",
    "                for j in range(npronouns):\n",
    "                    if conj[j] == reg[j]:\n",
    "                        conj[j] = '*'\n",
    "                        nreg_pronoun += 1\n",
    "            tense_idx += 1\n",
    "            ntense += 1\n",
    "            npronoun += npronouns\n",
    "            conjs.append(conj)\n",
    "        assert len(conjs) == len(tenses)\n",
    "        if not irregular:\n",
    "            # All tenses of this verb are regular.\n",
    "            conjs = '$'\n",
    "            nreg_verb += 1\n",
    "            # Check that this verb is not flagged as irregular.\n",
    "            assert not metarow['irregular']\n",
    "        conjdata.append(dict(info=info, conjs=conjs))\n",
    "        nverb += 1\n",
    "    print(f'Converted {nverb} verbs.')\n",
    "    print(f'{nreg_verb} / {nverb} ({100. * nreg_verb / nverb:.1f}%) verbs are regular.')\n",
    "    print(f'{nreg_tense} / {ntense} ({100. * nreg_tense / ntense:.1f}%) tenses are regular.')\n",
    "    print(f'{nreg_pronoun} / {npronoun} ({100. * nreg_pronoun / npronoun:.1f}%) pronouns are regular.')\n",
    "    return dict(pronouns=apronouns, regular=regular, conjugations=conjdata)\n",
    "\n",
    "converted = convert()"
   ]
  },
  {
   "cell_type": "code",
   "execution_count": 316,
   "metadata": {},
   "outputs": [],
   "source": [
    "with open('conjugations.js', 'w', encoding='utf8') as f:\n",
    "    f.write(f'initData({json.dumps(converted, ensure_ascii=False, indent=2)})')"
   ]
  },
  {
   "cell_type": "code",
   "execution_count": 317,
   "metadata": {},
   "outputs": [
    {
     "name": "stdout",
     "output_type": "stream",
     "text": [
      "-rw-r--r--@ 1 david  staff   1.6M Jun 19 17:16 conjugations.csv\n",
      "-rw-r--r--+ 1 david  staff   498K Jul  8 22:02 conjugations.js\n"
     ]
    }
   ],
   "source": [
    "!ls -lh conjugations.*"
   ]
  },
  {
   "cell_type": "code",
   "execution_count": 318,
   "metadata": {},
   "outputs": [],
   "source": [
    "with open('conjugo_data.js', 'w', encoding='utf8') as f:\n",
    "    f.write(f'initData({json.dumps(converted, ensure_ascii=False)})')"
   ]
  },
  {
   "cell_type": "code",
   "execution_count": 319,
   "metadata": {},
   "outputs": [
    {
     "name": "stdout",
     "output_type": "stream",
     "text": [
      "-rw-r--r--+ 1 david  staff   245K Jul  8 22:02 conjugo_data.js\n"
     ]
    }
   ],
   "source": [
    "!ls -lh conjugo_data.js"
   ]
  },
  {
   "cell_type": "code",
   "execution_count": null,
   "metadata": {},
   "outputs": [],
   "source": []
  }
 ],
 "metadata": {
  "kernelspec": {
   "display_name": "Python [default]",
   "language": "python",
   "name": "python3"
  },
  "language_info": {
   "codemirror_mode": {
    "name": "ipython",
    "version": 3
   },
   "file_extension": ".py",
   "mimetype": "text/x-python",
   "name": "python",
   "nbconvert_exporter": "python",
   "pygments_lexer": "ipython3",
   "version": "3.6.2"
  }
 },
 "nbformat": 4,
 "nbformat_minor": 2
}
